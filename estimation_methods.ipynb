{
 "cells": [
  {
   "cell_type": "markdown",
   "metadata": {},
   "source": [
    "# Estimation Methods"
   ]
  },
  {
   "cell_type": "code",
   "execution_count": 1,
   "metadata": {},
   "outputs": [],
   "source": [
    "import numpy as np\n",
    "import pandas as pd\n",
    "import random\n",
    "from matplotlib import pyplot as plt\n",
    "import sklearn\n",
    "from scipy.optimize import minimize\n",
    "from scipy.stats import lognorm, norm"
   ]
  },
  {
   "cell_type": "markdown",
   "metadata": {},
   "source": [
    "## Intro\n",
    "\n",
    "Often in machine learning, we're interested in creating a model that can predict things. The problem can be reformulated to be estimating a probability distribution (i.e. model) for a given dataset (i.e. source in which training data comes from). Thus, more formally, we can say this is a \"**joint probability estimation problem**\"."
   ]
  },
  {
   "cell_type": "markdown",
   "metadata": {},
   "source": [
    "## Maximum Likelihood Estimation (MLE)\n",
    "\n",
    "Bayesian method. We are trying to find the parameter $\\theta$ to maximize the likelihood of seeing the data sample X. In other words, a best fit for the join probability of the data sample (X). $\\theta$ in this case can represent both the probability distribution function and the parameters of that function.\n",
    "\n",
    "Given that in our observations $X$ there are $n$ samples. We can reframe this total probability as a joint probability of observing $x_1...x_n$ in $X$ given the probability distribution function and parameter $\\theta$: $P(X|\\theta) = \\underset{i = 1...n}{P}(x_i | \\theta)$"
   ]
  },
  {
   "cell_type": "markdown",
   "metadata": {},
   "source": [
    "### Setup"
   ]
  },
  {
   "cell_type": "code",
   "execution_count": 2,
   "metadata": {},
   "outputs": [],
   "source": [
    "true_mean = 0.5\n",
    "true_stddev = 1\n",
    "\n",
    "initial_guess_mean = 10\n",
    "initial_guess_std_dev = 1.5"
   ]
  },
  {
   "cell_type": "code",
   "execution_count": 3,
   "metadata": {},
   "outputs": [],
   "source": [
    "def create_gaussian(sample_size, mean, stddev):\n",
    "    gaussian_dist = np.random.normal(\n",
    "        loc=mean,\n",
    "        scale=stddev,\n",
    "        size=sample_size\n",
    "    )\n",
    "    return gaussian_dist"
   ]
  },
  {
   "cell_type": "markdown",
   "metadata": {},
   "source": [
    "## Estimate the true distribution using maximum likelihood estimation"
   ]
  },
  {
   "cell_type": "markdown",
   "metadata": {},
   "source": [
    "Ok, we don't know the mean, or the standard deviation of the true distribution, so we'll start off by guessing."
   ]
  },
  {
   "cell_type": "code",
   "execution_count": 4,
   "metadata": {},
   "outputs": [
    {
     "data": {
      "text/plain": [
       "<matplotlib.legend.Legend at 0x1330c44f0>"
      ]
     },
     "execution_count": 4,
     "metadata": {},
     "output_type": "execute_result"
    },
    {
     "data": {
      "image/png": "[encoded data removed]",
      "text/plain": [
       "<Figure size 640x480 with 1 Axes>"
      ]
     },
     "metadata": {},
     "output_type": "display_data"
    }
   ],
   "source": [
    "true_gaussian = create_gaussian(10000, true_mean, true_stddev)\n",
    "guess_gaussian = create_gaussian(10000, initial_guess_mean, initial_guess_std_dev)\n",
    "\n",
    "plt.hist(guess_gaussian, label='guess')\n",
    "plt.hist(true_gaussian, label='true')\n",
    "plt.legend()"
   ]
  },
  {
   "cell_type": "markdown",
   "metadata": {},
   "source": [
    "We now need to use the probability density function of the normal distribution:\n",
    "$$\n",
    "f(x ; \\mu, \\sigma)=\\frac{1}{\\sqrt{2 \\pi} \\sigma} e^{-(x-\\mu)^2 / 2 \\sigma^2} \\\\\n",
    "\\text{where} -\\infty<x<\\infty\n",
    "$$"
   ]
  },
  {
   "cell_type": "code",
   "execution_count": 5,
   "metadata": {},
   "outputs": [
    {
     "data": {
      "text/plain": [
       "0.3520653267642995"
      ]
     },
     "execution_count": 5,
     "metadata": {},
     "output_type": "execute_result"
    }
   ],
   "source": [
    "def normal_dist_pdf(x, mu, sigma):\n",
    "    part1 = 1 / (np.sqrt(2*np.pi) * sigma)\n",
    "    part2 = np.exp( -(x - mu)**2 / (2 * sigma ** 2) )\n",
    "\n",
    "    y_hat = part1 * part2\n",
    "    return y_hat\n",
    "\n",
    "normal_dist_pdf(1, true_mean, true_stddev)"
   ]
  },
  {
   "cell_type": "markdown",
   "metadata": {},
   "source": [
    "To verify that our PDF is correct defined, let's randomly pick some x's and plot out the corresponding y's"
   ]
  },
  {
   "cell_type": "code",
   "execution_count": 6,
   "metadata": {},
   "outputs": [
    {
     "data": {
      "text/plain": [
       "(array([  1.,   7.,  48., 207., 425., 541., 450., 237.,  65.,  19.]),\n",
       " array([-3.3130871 , -2.62597743, -1.93886776, -1.25175809, -0.56464841,\n",
       "         0.12246126,  0.80957093,  1.49668061,  2.18379028,  2.87089995,\n",
       "         3.55800962]),\n",
       " <BarContainer object of 10 artists>)"
      ]
     },
     "execution_count": 6,
     "metadata": {},
     "output_type": "execute_result"
    },
    {
     "data": {
      "image/png": "[encoded data removed]",
      "text/plain": [
       "<Figure size 640x480 with 1 Axes>"
      ]
     },
     "metadata": {},
     "output_type": "display_data"
    }
   ],
   "source": [
    "samples_from_true_distribution = []\n",
    "for _ in range(2000):\n",
    "    x = np.random.normal(loc=true_mean, scale=true_stddev)\n",
    "    # x = normal_dist_pdf(random.uniform(-5, 5), true_mean, true_stddev)\n",
    "    samples_from_true_distribution.append(x)\n",
    "\n",
    "plt.hist(samples_from_true_distribution)"
   ]
  },
  {
   "cell_type": "markdown",
   "metadata": {},
   "source": [
    "The joint probability of the entire distribution that we're trying to estimate is just the product of all the individual probabilities of observing each example.\n",
    "\n",
    "Since multiplying many small probabilities might lead to numeric instability, we will reframe this into the sum of log conditional probabilities of observing each example given $\\sigma$ and $\\mu$:\n",
    "$$\n",
    "l\\left(\\mu, \\sigma^2 ; x_1, \\ldots, x_n\\right)=-\\frac{n}{2} \\ln (2 \\pi)-\\frac{n}{2} \\ln \\left(\\sigma^2\\right)-\\frac{1}{2 \\sigma^2} \\sum_{j=1}^n\\left(x_j-\\mu\\right)^2\n",
    "$$\n",
    "\n",
    "We now basically want to find the parameters ($\\sigma$ and $\\mu$) that maximizes this probability. In other words, the optimized parameters (weights) will eventually be very close to the true mean and standard deviation of the normal distribution we're going to predict."
   ]
  },
  {
   "cell_type": "code",
   "execution_count": 7,
   "metadata": {},
   "outputs": [],
   "source": [
    "def neg_loglikelihood(params, data):\n",
    "    mu, sigma = params\n",
    "    n = len(data)\n",
    "    \n",
    "    part1 = (n/2.0) * np.log(2*np.pi)\n",
    "    part2 = (n/2.0) * np.log(sigma**2)\n",
    "    part3 = (1/(2*sigma**2)) * np.sum((data - mu)**2)\n",
    "    return -(-part1 - part2 - part3)"
   ]
  },
  {
   "cell_type": "code",
   "execution_count": 8,
   "metadata": {},
   "outputs": [
    {
     "name": "stdout",
     "output_type": "stream",
     "text": [
      "False 0.534589626193865 0.9615450935875439\n"
     ]
    }
   ],
   "source": [
    "optimal_result = minimize(\n",
    "    fun=lambda params, data: neg_loglikelihood(params, data),\n",
    "    x0=np.array([initial_guess_mean, initial_guess_std_dev]),\n",
    "    args=(samples_from_true_distribution,),\n",
    "    method='BFGS',\n",
    ")\n",
    "mu_hat, sigma_hat = optimal_result.x\n",
    "print(optimal_result.success, mu_hat, sigma_hat)"
   ]
  },
  {
   "cell_type": "markdown",
   "metadata": {},
   "source": [
    "### Validation\n",
    "\n",
    "Now it's time to randomly sample from our predicted distribution to see if the plot looks the same as the ground truth distribution."
   ]
  },
  {
   "cell_type": "markdown",
   "metadata": {},
   "source": [
    "Now let's use a real dataset and we're going to try to come up with a parameterized (normal) probability distribution\n",
    "that will try to predict new samples from the original dataset.\n"
   ]
  },
  {
   "cell_type": "code",
   "execution_count": 9,
   "metadata": {},
   "outputs": [
    {
     "data": {
      "text/plain": [
       "<matplotlib.legend.Legend at 0x1216c2490>"
      ]
     },
     "execution_count": 9,
     "metadata": {},
     "output_type": "execute_result"
    },
    {
     "data": {
      "image/png": "[encoded data removed]",
      "text/plain": [
       "<Figure size 640x480 with 1 Axes>"
      ]
     },
     "metadata": {},
     "output_type": "display_data"
    }
   ],
   "source": [
    "predicted_gaussian = create_gaussian(10000, mu_hat, sigma_hat)\n",
    "plt.hist(guess_gaussian, label='guess')\n",
    "plt.hist(predicted_gaussian, label='predicted')\n",
    "plt.hist(true_gaussian, label='true')\n",
    "plt.legend()"
   ]
  },
  {
   "cell_type": "code",
   "execution_count": null,
   "metadata": {},
   "outputs": [],
   "source": []
  }
 ],
 "metadata": {
  "kernelspec": {
   "display_name": "Python 3.9.0 ('venv': venv)",
   "language": "python",
   "name": "python3"
  },
  "language_info": {
   "codemirror_mode": {
    "name": "ipython",
    "version": 3
   },
   "file_extension": ".py",
   "mimetype": "text/x-python",
   "name": "python",
   "nbconvert_exporter": "python",
   "pygments_lexer": "ipython3",
   "version": "3.9.0"
  },
  "orig_nbformat": 4,
  "vscode": {
   "interpreter": {
    "hash": "ef7966211b3323b14b2aee6bdd82afca6f0bb76257e9b191dd108c1e0fad1745"
   }
  }
 },
 "nbformat": 4,
 "nbformat_minor": 2
}
